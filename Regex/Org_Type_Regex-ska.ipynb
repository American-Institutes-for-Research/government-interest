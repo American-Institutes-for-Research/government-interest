{
 "cells": [
  {
   "cell_type": "code",
   "execution_count": 110,
   "metadata": {
    "collapsed": true
   },
   "outputs": [],
   "source": [
    "import re\n",
    "import pandas as pd\n",
    "import MySQLdb\n",
    "import sys, csv, os\n",
    "sys.path.append(\"D:/DataBaseUpdate/To_clone\")\n",
    "from ConfigFiles import config #this attaches my database credentials"
   ]
  },
  {
   "cell_type": "code",
   "execution_count": 111,
   "metadata": {
    "collapsed": false
   },
   "outputs": [],
   "source": [
    "academic = []\n",
    "government = []\n",
    "corporate = []\n",
    "hospital = []\n",
    "\n",
    "lookup = {'Academic': academic, 'Government': government, \"Corporate\": corporate, 'Hospital': hospital}\n",
    "\n",
    "def add_to_list(item, category):\n",
    "    lookup[category].append(item)\n",
    "\n",
    "with open('AcadCorpGovIndiv.txt', 'rb') as myfile:\n",
    "    category = None\n",
    "    for line in myfile.readlines():\n",
    "        if line.startswith(\"*\"):\n",
    "            category = line[2:].strip(\"\\r\\n\")\n",
    "            if category == 'People':\n",
    "                break\n",
    "        if not line.startswith(\"*\"):\n",
    "            add_to_list(line[6:].strip(\"\\r\\n\").replace(\"\\\\b\", \"\"), category)"
   ]
  },
  {
   "cell_type": "code",
   "execution_count": 112,
   "metadata": {
    "collapsed": false
   },
   "outputs": [],
   "source": [
    "government += [\"represented\", \"Department of\",\"United States of America\", \"The National Institute of Standards and Technology\",\n",
    "               \"National Institutes of Health\", \"Tennessee Valley Authority\"]\n",
    "academic += ['Massachusetts Institute of Technology', 'California Institute of Technology','Rensselaer Polytechnic Institute']\n",
    "hospital += ['Sloan-Kettering Institute for Cancer Research']\n",
    "corporate += ['Battelle Memorial Institute', 'The Scripps Research Institute','The Salk Institute for Biological Studies','Dana-Farber Cancer Institute, Inc.', 'Midwest Research Institute', 'Southwest Research Institute', 'Whitehead Institute for Biomedical Research', 'SRI International', 'International Business Machines', 'General Dynamics']"
   ]
  },
  {
   "cell_type": "code",
   "execution_count": 113,
   "metadata": {
    "collapsed": false,
    "scrolled": true
   },
   "outputs": [
    {
     "name": "stdout",
     "output_type": "stream",
     "text": [
      "corporate\n",
      "['AB$', 'AG', 'Boeing', 'Company', 'Consultant', 'Corp', 'Gmbh', 'IBM', 'Inc', 'KGAA', 'KK$', 'LLC', 'Limited', 'Ltd', 'NTT', 'NV$', 'PLC', 'SA$', 'SPA$', 'Battelle Memorial Institute', 'The Scripps Research Institute', 'The Salk Institute for Biological Studies', 'Dana-Farber Cancer Institute, Inc.', 'Midwest Research Institute', 'Southwest Research Institute', 'Whitehead Institute for Biomedical Research', 'SRI International', 'International Business Machines', 'General Dynamics', 'Inc', 'Group', 'Foundation', 'Co', 'limited', 'LTD', 'LLC', 'Corp', 'Company', 'LP', 'LLP ']\n",
      "academic\n",
      "['Acad', 'Academic', 'Coll', 'Colleg', 'Ecole', 'Escola', 'Inst of Tech[a-z]+', 'MIT', 'Sch', 'School', 'Univ', 'Massachusetts Institute of Technology', 'California Institute of Technology', 'Rensselaer Polytechnic Institute', 'university', 'alumni', 'univ', 'national cancer', 'brigham', 'jackson lab', 'research center', 'akademie', 'vib', 'RIKEN', 'Eye & Ear', 'medical school', 'national jewish health', 'eth zurich', 'Center for', 'univeristy', 'higher education', 'cold spring harbor', 'akadamie', 'centre for', 'fundacio', 'Universit\\xe9', 'centre', 'planck', 'universuty', 'Universit\\xe2t', 'fundacion', 'UNIVERSIT\\xc0', 'agence nationale', 'insitute', 'UNIVERSIT\\xc9', 'eye and ear in rmary', 'Society for', 'Unversity', 'cancer centre', 'universite', 'institue', 'istituto', 'cancer center', 'fondation', 'universiteit', 'universitet', 'universitaet', 'city of hope', 'educational fund', 'zentrum', 'consejo', 'ecole', 'universtiy', 'centro', 'kettering', 'mayo', 'schule', 'institucio', 'centrum', 'hospital for sick', \"children's hospital\", 'academisch', 'universita', \"universit 'at\", 'unviersity', 'georgia tech', 'school of', 'consiglio nazionale', 'intellectual properties', 'fondazione', 'national centre', 'centro nacional', 'centre national', 'foundation', 'regents', 'council', 'fred hutchinson', 'general hospital corporation', 'universidade', 'research hospital', 'medical center', 'foundation', 'universitat', 'universidad', 'colegio', 'univerisite', 'institut', 'institute', 'instituto', 'trustees', 'academia', 'academy', 'college']\n",
      "hospital\n",
      "['Clinic', 'Hopital', 'Hosp(ital)?', 'infirmary', 'Sloan-Kettering Institute for Cancer Research']\n",
      "government\n",
      "['Academ(y|ies)', 'Res Inst', 'Res Org', 'Air Force', 'Army', 'CSIRO', 'NASA', 'NSF', 'Nav(y|al)', 'USAF', 'ministry', 'represented', 'Department of', 'United States of America', 'The National Institute of Standards and Technology', 'National Institutes of Health', 'Tennessee Valley Authority', 'Aerospace Federally Funded Research and Development Center', 'Ames Laboratory', 'Argonne National Laboratory', 'Arroyo Center', 'Brookhaven National Laboratory', 'Center for Advanced Aviation System Development', 'Center for Communications and Computing', 'Center for Enterprise Modernization', 'Center for Naval Analyses', 'Center for Nuclear Waste Regulatory Analyses', 'CMS Alliance to Modernize Healthcare', 'Fermi National Accelerator Laboratory', 'Frederick National Laboratory for Cancer Research', 'Homeland Security Studies and Analysis Institute', 'Homeland Security Systems Engineering and Development Institute', 'Idaho National Laboratory', 'Jet Propulsion Laboratory', 'Judiciary Engineering and  Modernization Center', 'Lawrence Berkeley National Laboratory', 'Lincoln Laboratory', 'Los Alamos National Laboratory', 'National Biodefense Analysis and Countermeasures Center', 'National Center for Atmospheric Research', 'National Cybersecurity Center of Excellence', 'National Optical Astronomy Observatory', 'National Defense Research Institute', 'National Optical Astronomy Observatory', 'National Radio Astronomy Observatory', 'National Renewable Energy Laboratory', 'National Security Engineering Center', 'National Solar Observatory', 'Oak Ridge National Laboratory', 'Pacific Northwest National Laboratory', 'Princeton Plasma Physics Laboratory', 'Project Air Force', 'Sandia National Laboratories', 'Savannah River National Laboratory', 'Science and Technology Policy Institute', 'SLAC National Accelerator Laboratory', 'Software Engineering Institute', 'Systems and Analyses Center', 'Thomas Jefferson National Accelerator Facility']\n"
     ]
    }
   ],
   "source": [
    "#adding in the logic from Sanjay's email\n",
    "with open('new_thesaurus.txt', 'rb') as myfile:\n",
    "    counter =0\n",
    "    for line in myfile.readlines():\n",
    "        if line != \"\\r\\n\":\n",
    "            if counter ==0:\n",
    "                academic += [item.lstrip(\" \").rstrip(\" \").strip(\"\\r\\n\") for item in line.split(',')]\n",
    "            if counter ==1:\n",
    "                government += [item.lstrip(\" \").rstrip(\" \").strip(\"\\r\\n\") for item in line.split(',')]\n",
    "            if counter ==2:\n",
    "                corporate += [item.lstrip(\" \").rstrip(\" \").strip(\"\\r\\n\") for item in line.split(',')]\n",
    "            counter +=1\n",
    "\n",
    "print \"corporate\"\n",
    "print corporate\n",
    "\n",
    "print \"academic\"\n",
    "print academic\n",
    "\n",
    "print \"hospital\"\n",
    "print hospital\n",
    "\n",
    "print \"government\"\n",
    "print government"
   ]
  },
  {
   "cell_type": "code",
   "execution_count": 114,
   "metadata": {
    "collapsed": false
   },
   "outputs": [
    {
     "name": "stdout",
     "output_type": "stream",
     "text": [
      "corporate\n",
      "['\\\\bAB$', '\\\\bAG\\\\b', '\\\\bBoeing\\\\b', '\\\\bCompany\\\\b', '\\\\bConsultant\\\\b', '\\\\bCorp\\\\b', '\\\\bGmbh\\\\b', '\\\\bIBM\\\\b', '\\\\bInc\\\\b', '\\\\bKGAA\\\\b', '\\\\bKK$', '\\\\bLLC\\\\b', '\\\\bLimited\\\\b', '\\\\bLtd\\\\b', '\\\\bNTT\\\\b', '\\\\bNV$', '\\\\bPLC\\\\b', '\\\\bSA$', '\\\\bSPA$', '\\\\bBattelle Memorial Institute\\\\b', '\\\\bThe Scripps Research Institute\\\\b', '\\\\bThe Salk Institute for Biological Studies\\\\b', '\\\\bDana-Farber Cancer Institute, Inc.\\\\b', '\\\\bMidwest Research Institute\\\\b', '\\\\bSouthwest Research Institute\\\\b', '\\\\bWhitehead Institute for Biomedical Research\\\\b', '\\\\bSRI International\\\\b', '\\\\bInternational Business Machines\\\\b', '\\\\bGeneral Dynamics\\\\b', '\\\\bInc\\\\b', '\\\\bGroup\\\\b', '\\\\bFoundation\\\\b', '\\\\bCo\\\\b', '\\\\blimited\\\\b', '\\\\bLTD\\\\b', '\\\\bLLC\\\\b', '\\\\bCorp\\\\b', '\\\\bCompany\\\\b', '\\\\bLP\\\\b', '\\\\bLLP \\\\b']\n",
      "academic\n",
      "['\\\\bAcad\\\\b', '\\\\bAcademic\\\\b', '\\\\bColl\\\\b', '\\\\bColleg\\\\b', '\\\\bEcole\\\\b', '\\\\bEscola\\\\b', '\\\\bInst of Tech[a-z]+\\\\b', '\\\\bMIT\\\\b', '\\\\bSch\\\\b', '\\\\bSchool\\\\b', '\\\\bUniv\\\\b', '\\\\bMassachusetts Institute of Technology\\\\b', '\\\\bCalifornia Institute of Technology\\\\b', '\\\\bRensselaer Polytechnic Institute\\\\b', '\\\\buniversity\\\\b', '\\\\balumni\\\\b', '\\\\buniv\\\\b', '\\\\bnational cancer\\\\b', '\\\\bbrigham\\\\b', '\\\\bjackson lab\\\\b', '\\\\bresearch center\\\\b', '\\\\bakademie\\\\b', '\\\\bvib\\\\b', '\\\\bRIKEN\\\\b', '\\\\bEye & Ear\\\\b', '\\\\bmedical school\\\\b', '\\\\bnational jewish health\\\\b', '\\\\beth zurich\\\\b', '\\\\bCenter for\\\\b', '\\\\buniveristy\\\\b', '\\\\bhigher education\\\\b', '\\\\bcold spring harbor\\\\b', '\\\\bakadamie\\\\b', '\\\\bcentre for\\\\b', '\\\\bfundacio\\\\b', '\\\\bUniversit\\xe9\\\\b', '\\\\bcentre\\\\b', '\\\\bplanck\\\\b', '\\\\buniversuty\\\\b', '\\\\bUniversit\\xe2t\\\\b', '\\\\bfundacion\\\\b', '\\\\bUNIVERSIT\\xc0\\\\b', '\\\\bagence nationale\\\\b', '\\\\binsitute\\\\b', '\\\\bUNIVERSIT\\xc9\\\\b', '\\\\beye and ear in rmary\\\\b', '\\\\bSociety for\\\\b', '\\\\bUnversity\\\\b', '\\\\bcancer centre\\\\b', '\\\\buniversite\\\\b', '\\\\binstitue\\\\b', '\\\\bistituto\\\\b', '\\\\bcancer center\\\\b', '\\\\bfondation\\\\b', '\\\\buniversiteit\\\\b', '\\\\buniversitet\\\\b', '\\\\buniversitaet\\\\b', '\\\\bcity of hope\\\\b', '\\\\beducational fund\\\\b', '\\\\bzentrum\\\\b', '\\\\bconsejo\\\\b', '\\\\becole\\\\b', '\\\\buniverstiy\\\\b', '\\\\bcentro\\\\b', '\\\\bkettering\\\\b', '\\\\bmayo\\\\b', '\\\\bschule\\\\b', '\\\\binstitucio\\\\b', '\\\\bcentrum\\\\b', '\\\\bhospital for sick\\\\b', \"\\\\bchildren's hospital\\\\b\", '\\\\bacademisch\\\\b', '\\\\buniversita\\\\b', \"\\\\buniversit 'at\\\\b\", '\\\\bunviersity\\\\b', '\\\\bgeorgia tech\\\\b', '\\\\bschool of\\\\b', '\\\\bconsiglio nazionale\\\\b', '\\\\bintellectual properties\\\\b', '\\\\bfondazione\\\\b', '\\\\bnational centre\\\\b', '\\\\bcentro nacional\\\\b', '\\\\bcentre national\\\\b', '\\\\bfoundation\\\\b', '\\\\bregents\\\\b', '\\\\bcouncil\\\\b', '\\\\bfred hutchinson\\\\b', '\\\\bgeneral hospital corporation\\\\b', '\\\\buniversidade\\\\b', '\\\\bresearch hospital\\\\b', '\\\\bmedical center\\\\b', '\\\\bfoundation\\\\b', '\\\\buniversitat\\\\b', '\\\\buniversidad\\\\b', '\\\\bcolegio\\\\b', '\\\\buniverisite\\\\b', '\\\\binstitut\\\\b', '\\\\binstitute\\\\b', '\\\\binstituto\\\\b', '\\\\btrustees\\\\b', '\\\\bacademia\\\\b', '\\\\bacademy\\\\b', '\\\\bcollege\\\\b']\n",
      "hospital\n",
      "['\\\\bAcad\\\\b', '\\\\bAcademic\\\\b', '\\\\bColl\\\\b', '\\\\bColleg\\\\b', '\\\\bEcole\\\\b', '\\\\bEscola\\\\b', '\\\\bInst of Tech[a-z]+\\\\b', '\\\\bMIT\\\\b', '\\\\bSch\\\\b', '\\\\bSchool\\\\b', '\\\\bUniv\\\\b', '\\\\bMassachusetts Institute of Technology\\\\b', '\\\\bCalifornia Institute of Technology\\\\b', '\\\\bRensselaer Polytechnic Institute\\\\b', '\\\\buniversity\\\\b', '\\\\balumni\\\\b', '\\\\buniv\\\\b', '\\\\bnational cancer\\\\b', '\\\\bbrigham\\\\b', '\\\\bjackson lab\\\\b', '\\\\bresearch center\\\\b', '\\\\bakademie\\\\b', '\\\\bvib\\\\b', '\\\\bRIKEN\\\\b', '\\\\bEye & Ear\\\\b', '\\\\bmedical school\\\\b', '\\\\bnational jewish health\\\\b', '\\\\beth zurich\\\\b', '\\\\bCenter for\\\\b', '\\\\buniveristy\\\\b', '\\\\bhigher education\\\\b', '\\\\bcold spring harbor\\\\b', '\\\\bakadamie\\\\b', '\\\\bcentre for\\\\b', '\\\\bfundacio\\\\b', '\\\\bUniversit\\xe9\\\\b', '\\\\bcentre\\\\b', '\\\\bplanck\\\\b', '\\\\buniversuty\\\\b', '\\\\bUniversit\\xe2t\\\\b', '\\\\bfundacion\\\\b', '\\\\bUNIVERSIT\\xc0\\\\b', '\\\\bagence nationale\\\\b', '\\\\binsitute\\\\b', '\\\\bUNIVERSIT\\xc9\\\\b', '\\\\beye and ear in rmary\\\\b', '\\\\bSociety for\\\\b', '\\\\bUnversity\\\\b', '\\\\bcancer centre\\\\b', '\\\\buniversite\\\\b', '\\\\binstitue\\\\b', '\\\\bistituto\\\\b', '\\\\bcancer center\\\\b', '\\\\bfondation\\\\b', '\\\\buniversiteit\\\\b', '\\\\buniversitet\\\\b', '\\\\buniversitaet\\\\b', '\\\\bcity of hope\\\\b', '\\\\beducational fund\\\\b', '\\\\bzentrum\\\\b', '\\\\bconsejo\\\\b', '\\\\becole\\\\b', '\\\\buniverstiy\\\\b', '\\\\bcentro\\\\b', '\\\\bkettering\\\\b', '\\\\bmayo\\\\b', '\\\\bschule\\\\b', '\\\\binstitucio\\\\b', '\\\\bcentrum\\\\b', '\\\\bhospital for sick\\\\b', \"\\\\bchildren's hospital\\\\b\", '\\\\bacademisch\\\\b', '\\\\buniversita\\\\b', \"\\\\buniversit 'at\\\\b\", '\\\\bunviersity\\\\b', '\\\\bgeorgia tech\\\\b', '\\\\bschool of\\\\b', '\\\\bconsiglio nazionale\\\\b', '\\\\bintellectual properties\\\\b', '\\\\bfondazione\\\\b', '\\\\bnational centre\\\\b', '\\\\bcentro nacional\\\\b', '\\\\bcentre national\\\\b', '\\\\bfoundation\\\\b', '\\\\bregents\\\\b', '\\\\bcouncil\\\\b', '\\\\bfred hutchinson\\\\b', '\\\\bgeneral hospital corporation\\\\b', '\\\\buniversidade\\\\b', '\\\\bresearch hospital\\\\b', '\\\\bmedical center\\\\b', '\\\\bfoundation\\\\b', '\\\\buniversitat\\\\b', '\\\\buniversidad\\\\b', '\\\\bcolegio\\\\b', '\\\\buniverisite\\\\b', '\\\\binstitut\\\\b', '\\\\binstitute\\\\b', '\\\\binstituto\\\\b', '\\\\btrustees\\\\b', '\\\\bacademia\\\\b', '\\\\bacademy\\\\b', '\\\\bcollege\\\\b']\n",
      "government\n",
      "['\\\\bAcadem(y|ies)\\\\b', '\\\\bRes Inst\\\\b', '\\\\bRes Org\\\\b', '\\\\bAir Force\\\\b', '\\\\bArmy\\\\b', '\\\\bCSIRO\\\\b', '\\\\bNASA\\\\b', '\\\\bNSF\\\\b', '\\\\bNav(y|al)\\\\b', '\\\\bUSAF\\\\b', '\\\\bministry\\\\b', '\\\\brepresented\\\\b', '\\\\bDepartment of\\\\b', '\\\\bUnited States of America\\\\b', '\\\\bThe National Institute of Standards and Technology\\\\b', '\\\\bNational Institutes of Health\\\\b', '\\\\bTennessee Valley Authority\\\\b', '\\\\bAerospace Federally Funded Research and Development Center\\\\b', '\\\\bAmes Laboratory\\\\b', '\\\\bArgonne National Laboratory\\\\b', '\\\\bArroyo Center\\\\b', '\\\\bBrookhaven National Laboratory\\\\b', '\\\\bCenter for Advanced Aviation System Development\\\\b', '\\\\bCenter for Communications and Computing\\\\b', '\\\\bCenter for Enterprise Modernization\\\\b', '\\\\bCenter for Naval Analyses\\\\b', '\\\\bCenter for Nuclear Waste Regulatory Analyses\\\\b', '\\\\bCMS Alliance to Modernize Healthcare\\\\b', '\\\\bFermi National Accelerator Laboratory\\\\b', '\\\\bFrederick National Laboratory for Cancer Research\\\\b', '\\\\bHomeland Security Studies and Analysis Institute\\\\b', '\\\\bHomeland Security Systems Engineering and Development Institute\\\\b', '\\\\bIdaho National Laboratory\\\\b', '\\\\bJet Propulsion Laboratory\\\\b', '\\\\bJudiciary Engineering and  Modernization Center\\\\b', '\\\\bLawrence Berkeley National Laboratory\\\\b', '\\\\bLincoln Laboratory\\\\b', '\\\\bLos Alamos National Laboratory\\\\b', '\\\\bNational Biodefense Analysis and Countermeasures Center\\\\b', '\\\\bNational Center for Atmospheric Research\\\\b', '\\\\bNational Cybersecurity Center of Excellence\\\\b', '\\\\bNational Optical Astronomy Observatory\\\\b', '\\\\bNational Defense Research Institute\\\\b', '\\\\bNational Optical Astronomy Observatory\\\\b', '\\\\bNational Radio Astronomy Observatory\\\\b', '\\\\bNational Renewable Energy Laboratory\\\\b', '\\\\bNational Security Engineering Center\\\\b', '\\\\bNational Solar Observatory\\\\b', '\\\\bOak Ridge National Laboratory\\\\b', '\\\\bPacific Northwest National Laboratory\\\\b', '\\\\bPrinceton Plasma Physics Laboratory\\\\b', '\\\\bProject Air Force\\\\b', '\\\\bSandia National Laboratories\\\\b', '\\\\bSavannah River National Laboratory\\\\b', '\\\\bScience and Technology Policy Institute\\\\b', '\\\\bSLAC National Accelerator Laboratory\\\\b', '\\\\bSoftware Engineering Institute\\\\b', '\\\\bSystems and Analyses Center\\\\b', '\\\\bThomas Jefferson National Accelerator Facility\\\\b']\n"
     ]
    }
   ],
   "source": [
    "academic_stops = [item if \"$\" in item else (item + \"\\\\b\") for item in academic ]\n",
    "academic_stops = [\"\\\\b\" + item for item in academic_stops ]\n",
    "\n",
    "corporate_stops = [item if \"$\" in item else (item + \"\\\\b\") for item in corporate ]\n",
    "corporate_stops = [\"\\\\b\" + item for item in corporate_stops ]\n",
    "\n",
    "government_stops = [item if \"$\" in item else (item + \"\\\\b\") for item in government ]\n",
    "government_stops = [\"\\\\b\" + item for item in government_stops ]\n",
    "\n",
    "hospital_stops = [item if \"$\" in item else (item + \"\\\\b\") for item in academic ]\n",
    "hospital_stops = [\"\\\\b\" + item for item in hospital_stops ]\n",
    "\n",
    "print \"corporate\"\n",
    "print corporate_stops\n",
    "\n",
    "print \"academic\"\n",
    "print academic_stops\n",
    "\n",
    "print \"hospital\"\n",
    "print hospital_stops\n",
    "\n",
    "print \"government\"\n",
    "print government_stops"
   ]
  },
  {
   "cell_type": "code",
   "execution_count": 120,
   "metadata": {
    "collapsed": false
   },
   "outputs": [],
   "source": [
    "academic_regex = re.compile(\"|\".join(academic), re.IGNORECASE)"
   ]
  },
  {
   "cell_type": "code",
   "execution_count": 121,
   "metadata": {
    "collapsed": true
   },
   "outputs": [],
   "source": [
    "government_regex = re.compile(\"|\".join(government), re.IGNORECASE)"
   ]
  },
  {
   "cell_type": "code",
   "execution_count": 122,
   "metadata": {
    "collapsed": true
   },
   "outputs": [],
   "source": [
    "corporate_regex = re.compile(\"|\".join(corporate), re.IGNORECASE)\n",
    "hospital_regex = re.compile(\"|\".join(hospital), re.IGNORECASE)\n",
    "\n",
    "institute_regex = re.compile(\"institute\", re.IGNORECASE)"
   ]
  },
  {
   "cell_type": "code",
   "execution_count": 127,
   "metadata": {
    "collapsed": false
   },
   "outputs": [],
   "source": [
    "def org_types(text):\n",
    "    if text == \"\":\n",
    "        return \"Person\"\n",
    "    academic = bool(re.search(academic_regex, text))\n",
    "    government = bool(re.search(government_regex, text))\n",
    "    corporate = bool(re.search(corporate_regex, text))\n",
    "    hospital = bool(re.search(hospital_regex, text))\n",
    "    corp_institute = bool(re.search(institute_regex, text)) & corporate & academic \n",
    "\n",
    "    if corp_institute:\n",
    "        return \"Corporate\"\n",
    "    if academic: \n",
    "        return \"Academic\"\n",
    "    if government:\n",
    "        return \"Government\"\n",
    "    if hospital:\n",
    "        return \"Hospital\"\n",
    "    if corporate:\n",
    "        return \"Corporate\"\n",
    "    else:\n",
    "        return \"Ambiguous\""
   ]
  },
  {
   "cell_type": "code",
   "execution_count": 128,
   "metadata": {
    "collapsed": false
   },
   "outputs": [
    {
     "name": "stdout",
     "output_type": "stream",
     "text": [
      "       patent_id  assignee_type  \\\n",
      "0        3930295            2.0   \n",
      "1        3930295            2.0   \n",
      "2        3930366            2.0   \n",
      "3        3930405            6.0   \n",
      "4        3930449            6.0   \n",
      "5        3930537            6.0   \n",
      "6        3930541            6.0   \n",
      "7        3930550            6.0   \n",
      "8        3930628            6.0   \n",
      "10       3930735            6.0   \n",
      "12       3930848            2.0   \n",
      "13       3930956            2.0   \n",
      "15       3931325            2.0   \n",
      "16       3931354            2.0   \n",
      "17       3931388            6.0   \n",
      "18       3931447            6.0   \n",
      "19       3931456            6.0   \n",
      "20       3931462            6.0   \n",
      "21       3931513            2.0   \n",
      "23       3931522            6.0   \n",
      "24       3931532            6.0   \n",
      "25       3931607            6.0   \n",
      "26       3931687            2.0   \n",
      "27       3932014            6.0   \n",
      "28       3932123            6.0   \n",
      "29       3932226            2.0   \n",
      "30       3932262            2.0   \n",
      "31       3932300            6.0   \n",
      "32       3932546            2.0   \n",
      "33       3932592            2.0   \n",
      "...          ...            ...   \n",
      "138652   RE45230            2.0   \n",
      "138653   RE45266            2.0   \n",
      "138654   RE45314            2.0   \n",
      "138655   RE45314            2.0   \n",
      "138656   RE45317            2.0   \n",
      "138657   RE45424            2.0   \n",
      "138658   RE45512            2.0   \n",
      "138659   RE45517            2.0   \n",
      "138660   RE45539            2.0   \n",
      "138661   RE45541            2.0   \n",
      "138662   RE45578            2.0   \n",
      "138663   RE45690            2.0   \n",
      "138664   RE45703            2.0   \n",
      "138665   RE45718            2.0   \n",
      "138666   RE45725            2.0   \n",
      "138667   RE45911            2.0   \n",
      "138668   RE45930            2.0   \n",
      "138669   RE46071            2.0   \n",
      "138670   RE46088            2.0   \n",
      "138671   RE46129            2.0   \n",
      "138672   RE46211            2.0   \n",
      "138673   RE46211            6.0   \n",
      "138674   RE46290            2.0   \n",
      "138675   RE46322            2.0   \n",
      "138676   RE46372            2.0   \n",
      "138677   RE46412            2.0   \n",
      "138678   RE46423            2.0   \n",
      "138679   RE46479            2.0   \n",
      "138680   RE46493            2.0   \n",
      "138681   RE46545            2.0   \n",
      "\n",
      "                                             organization  thes_types  \n",
      "0                                  Signetics Corporation    Corporate  \n",
      "1                                         Watkins-Johnson   Ambiguous  \n",
      "2                              General Motors Corporation   Corporate  \n",
      "3       The United States of America as represented by...  Government  \n",
      "4       The United States of America as represented by...  Government  \n",
      "5       The United States of America as represented by...  Government  \n",
      "6       The United States of America as represented by...  Government  \n",
      "7       The United States of America as represented by...  Government  \n",
      "8       The United States of America as represented by...  Government  \n",
      "10      The United States of America as represented by...  Government  \n",
      "12                        United Technologies Corporation   Corporate  \n",
      "13              The Regents of the University of Michigan    Academic  \n",
      "15                               The Dow Chemical Company   Corporate  \n",
      "16                                               TRW Inc.   Corporate  \n",
      "17      The United States of America as represented by...  Government  \n",
      "18      The United States of America as represented by...  Government  \n",
      "19      The United States of America as represented by...  Government  \n",
      "20      The United States of America as represented by...  Government  \n",
      "21                                      Ampex Corporation   Corporate  \n",
      "23      The United States of America as represented by...  Government  \n",
      "24      The United States of America as represented by...  Government  \n",
      "25      The United States of America as represented by...  Government  \n",
      "26                                Clark Equipment Company   Corporate  \n",
      "27      The United States of America as represented by...  Government  \n",
      "28      The United States of America as represented by...  Government  \n",
      "29                                        RCA Corporation   Corporate  \n",
      "30                     California Institute of Technology    Academic  \n",
      "31      The United States of America as represented by...  Government  \n",
      "32                  Massachusetts Institute of Technology    Academic  \n",
      "33                  Massachusetts Institute of Technology    Academic  \n",
      "...                                                   ...         ...  \n",
      "138652             Regents of the University of Minnesota    Academic  \n",
      "138653              Massachusetts Institute of Technology    Academic  \n",
      "138654                               Johns Hopkins Univ.     Academic  \n",
      "138655                      Clarion Pharmaceuticals Inc.    Corporate  \n",
      "138656          The Regents of the University of Colorado    Academic  \n",
      "138657                    Social Perspective Mgmt, L.L.C.   Ambiguous  \n",
      "138658                   The General Hospital Corporation    Academic  \n",
      "138659                                         Cree, Inc.   Corporate  \n",
      "138660          Lawrence Livermore National Security, LLC   Corporate  \n",
      "138661              Massachusetts Institute of Technology    Academic  \n",
      "138662              Massachusetts Institute of Technology    Academic  \n",
      "138663                               Siemens Energy, Inc.   Corporate  \n",
      "138664                                  OneD Material LLC   Corporate  \n",
      "138665                      Boston Scientific Corporation   Corporate  \n",
      "138666           University of Virginia Patent Foundation    Academic  \n",
      "138667                               University of Hawaii    Academic  \n",
      "138668        The Regents of the University of California    Academic  \n",
      "138669              Paragon Space Development Corporation   Corporate  \n",
      "138670                               SunPower Corporation   Corporate  \n",
      "138671       Board of Regents, University of Texas System    Academic  \n",
      "138672        The Regents of the University of California    Academic  \n",
      "138673  The United States of America as Represented by...  Government  \n",
      "138674                 The Penn State Research Foundation    Academic  \n",
      "138675          Lawrence Livermore National Security, LLC   Corporate  \n",
      "138676          The Regents of the University of Michigan    Academic  \n",
      "138677                   The General Hospital Corporation    Academic  \n",
      "138678                                       AERase, Inc.   Corporate  \n",
      "138679                  Los Alamos National Security, LLC   Corporate  \n",
      "138680                   The General Hospital Corporation    Academic  \n",
      "138681                  Los Alamos National Security, LLC   Corporate  \n",
      "\n",
      "[133367 rows x 4 columns]\n"
     ]
    }
   ],
   "source": [
    "data = pd.read_csv('F:\\Govt_Int\\Final_CSVS/assignee_type.csv')\n",
    "data['organization'] = data['organization'].fillna(\"\")\n",
    "data = data.dropna()\n",
    "data['thes_types'] = data['organization'].apply(lambda x : org_types(x))\n",
    "print data"
   ]
  },
  {
   "cell_type": "code",
   "execution_count": 41,
   "metadata": {
    "collapsed": false
   },
   "outputs": [],
   "source": [
    "#data[\"Inst\"] = data['organization'].apply(lambda x : True if 'Institute' in x else False)\n",
    "#data[data[\"Inst\"]==True].groupby('organization').max().sort_values(\"thes_types\", ascending=False)"
   ]
  },
  {
   "cell_type": "code",
   "execution_count": 129,
   "metadata": {
    "collapsed": false
   },
   "outputs": [],
   "source": [
    "data.to_csv('F:\\Govt_Int\\Final_CSVS/assignees_lookedup_types.csv')"
   ]
  },
  {
   "cell_type": "markdown",
   "metadata": {},
   "source": [
    "### Check the most common assignees"
   ]
  },
  {
   "cell_type": "code",
   "execution_count": 130,
   "metadata": {
    "collapsed": false,
    "scrolled": true
   },
   "outputs": [
    {
     "data": {
      "text/html": [
       "<div>\n",
       "<table border=\"1\" class=\"dataframe\">\n",
       "  <thead>\n",
       "    <tr style=\"text-align: right;\">\n",
       "      <th></th>\n",
       "      <th>Unnamed: 0</th>\n",
       "      <th>patent_id</th>\n",
       "      <th>assignee_type</th>\n",
       "      <th>organization</th>\n",
       "      <th>thes_types</th>\n",
       "    </tr>\n",
       "  </thead>\n",
       "  <tbody>\n",
       "    <tr>\n",
       "      <th>0</th>\n",
       "      <td>0</td>\n",
       "      <td>3930295</td>\n",
       "      <td>2.0</td>\n",
       "      <td>Signetics Corporation</td>\n",
       "      <td>Corporate</td>\n",
       "    </tr>\n",
       "    <tr>\n",
       "      <th>1</th>\n",
       "      <td>1</td>\n",
       "      <td>3930295</td>\n",
       "      <td>2.0</td>\n",
       "      <td>Watkins-Johnson</td>\n",
       "      <td>Ambiguous</td>\n",
       "    </tr>\n",
       "    <tr>\n",
       "      <th>2</th>\n",
       "      <td>2</td>\n",
       "      <td>3930366</td>\n",
       "      <td>2.0</td>\n",
       "      <td>General Motors Corporation</td>\n",
       "      <td>Corporate</td>\n",
       "    </tr>\n",
       "    <tr>\n",
       "      <th>3</th>\n",
       "      <td>3</td>\n",
       "      <td>3930405</td>\n",
       "      <td>6.0</td>\n",
       "      <td>The United States of America as represented by...</td>\n",
       "      <td>Government</td>\n",
       "    </tr>\n",
       "    <tr>\n",
       "      <th>4</th>\n",
       "      <td>4</td>\n",
       "      <td>3930449</td>\n",
       "      <td>6.0</td>\n",
       "      <td>The United States of America as represented by...</td>\n",
       "      <td>Government</td>\n",
       "    </tr>\n",
       "  </tbody>\n",
       "</table>\n",
       "</div>"
      ],
      "text/plain": [
       "   Unnamed: 0 patent_id  assignee_type  \\\n",
       "0           0   3930295            2.0   \n",
       "1           1   3930295            2.0   \n",
       "2           2   3930366            2.0   \n",
       "3           3   3930405            6.0   \n",
       "4           4   3930449            6.0   \n",
       "\n",
       "                                        organization  thes_types  \n",
       "0                             Signetics Corporation    Corporate  \n",
       "1                                    Watkins-Johnson   Ambiguous  \n",
       "2                         General Motors Corporation   Corporate  \n",
       "3  The United States of America as represented by...  Government  \n",
       "4  The United States of America as represented by...  Government  "
      ]
     },
     "execution_count": 130,
     "metadata": {},
     "output_type": "execute_result"
    }
   ],
   "source": [
    "data = pd.read_csv('F:\\Govt_Int\\Final_CSVS/assignees_lookedup_types.csv')\n",
    "data.head()"
   ]
  },
  {
   "cell_type": "code",
   "execution_count": 89,
   "metadata": {
    "collapsed": false
   },
   "outputs": [],
   "source": [
    "counts = data.groupby(\"organization\").agg({'patent_id':'count', 'thes_types':'min'})\n",
    "to_check = counts[counts['patent_id'] >20]\n",
    "#to_check['thes_types'].value_counts()"
   ]
  },
  {
   "cell_type": "code",
   "execution_count": 90,
   "metadata": {
    "collapsed": false
   },
   "outputs": [
    {
     "data": {
      "text/html": [
       "<div>\n",
       "<table border=\"1\" class=\"dataframe\">\n",
       "  <thead>\n",
       "    <tr style=\"text-align: right;\">\n",
       "      <th></th>\n",
       "      <th>organization</th>\n",
       "      <th>type</th>\n",
       "      <th>count</th>\n",
       "    </tr>\n",
       "  </thead>\n",
       "  <tbody>\n",
       "    <tr>\n",
       "      <th>0</th>\n",
       "      <td>3M Innovative Properties Company</td>\n",
       "      <td>Corporate</td>\n",
       "      <td>143</td>\n",
       "    </tr>\n",
       "    <tr>\n",
       "      <th>1</th>\n",
       "      <td>AIR PRODUCTS AND CHEMICALS, INC.</td>\n",
       "      <td>Corporate</td>\n",
       "      <td>110</td>\n",
       "    </tr>\n",
       "    <tr>\n",
       "      <th>2</th>\n",
       "      <td>ARCH Development Corporation</td>\n",
       "      <td>Corporate</td>\n",
       "      <td>255</td>\n",
       "    </tr>\n",
       "    <tr>\n",
       "      <th>3</th>\n",
       "      <td>AT&amp;T Bell Laboratories</td>\n",
       "      <td>Corporate</td>\n",
       "      <td>23</td>\n",
       "    </tr>\n",
       "    <tr>\n",
       "      <th>4</th>\n",
       "      <td>Abbott Laboratories</td>\n",
       "      <td>Corporate</td>\n",
       "      <td>41</td>\n",
       "    </tr>\n",
       "    <tr>\n",
       "      <th>5</th>\n",
       "      <td>Abuzz Technologies, Inc.</td>\n",
       "      <td>Corporate</td>\n",
       "      <td>27</td>\n",
       "    </tr>\n",
       "    <tr>\n",
       "      <th>6</th>\n",
       "      <td>Advanced Ceramics Research, Inc.</td>\n",
       "      <td>Corporate</td>\n",
       "      <td>21</td>\n",
       "    </tr>\n",
       "    <tr>\n",
       "      <th>7</th>\n",
       "      <td>Advanced Fuel Research, Inc.</td>\n",
       "      <td>Corporate</td>\n",
       "      <td>25</td>\n",
       "    </tr>\n",
       "    <tr>\n",
       "      <th>8</th>\n",
       "      <td>Advanced Liquid Logic, Inc.</td>\n",
       "      <td>Corporate</td>\n",
       "      <td>75</td>\n",
       "    </tr>\n",
       "    <tr>\n",
       "      <th>9</th>\n",
       "      <td>Advanced Micro Devices, Inc.</td>\n",
       "      <td>Corporate</td>\n",
       "      <td>37</td>\n",
       "    </tr>\n",
       "    <tr>\n",
       "      <th>10</th>\n",
       "      <td>Advanced Research and Technology Institute</td>\n",
       "      <td>Academic</td>\n",
       "      <td>26</td>\n",
       "    </tr>\n",
       "    <tr>\n",
       "      <th>11</th>\n",
       "      <td>Advanced Technology Materials, Inc.</td>\n",
       "      <td>Corporate</td>\n",
       "      <td>46</td>\n",
       "    </tr>\n",
       "    <tr>\n",
       "      <th>12</th>\n",
       "      <td>Aerodyne Research, Inc.</td>\n",
       "      <td>Corporate</td>\n",
       "      <td>22</td>\n",
       "    </tr>\n",
       "    <tr>\n",
       "      <th>13</th>\n",
       "      <td>Affymetrix, Inc.</td>\n",
       "      <td>Corporate</td>\n",
       "      <td>75</td>\n",
       "    </tr>\n",
       "    <tr>\n",
       "      <th>14</th>\n",
       "      <td>Agilent Technologies, Inc.</td>\n",
       "      <td>Corporate</td>\n",
       "      <td>30</td>\n",
       "    </tr>\n",
       "    <tr>\n",
       "      <th>15</th>\n",
       "      <td>Albert Einstein College of Medicine of Yeshiva...</td>\n",
       "      <td>Ambiguous</td>\n",
       "      <td>175</td>\n",
       "    </tr>\n",
       "    <tr>\n",
       "      <th>16</th>\n",
       "      <td>Albert Einstein College of Medicine, Inc.</td>\n",
       "      <td>Ambiguous</td>\n",
       "      <td>28</td>\n",
       "    </tr>\n",
       "    <tr>\n",
       "      <th>17</th>\n",
       "      <td>Alcatel Lucent</td>\n",
       "      <td>Corporate</td>\n",
       "      <td>49</td>\n",
       "    </tr>\n",
       "    <tr>\n",
       "      <th>18</th>\n",
       "      <td>Alcatel-Lucent USA Inc.</td>\n",
       "      <td>Corporate</td>\n",
       "      <td>35</td>\n",
       "    </tr>\n",
       "    <tr>\n",
       "      <th>19</th>\n",
       "      <td>Alcoa Inc.</td>\n",
       "      <td>Corporate</td>\n",
       "      <td>24</td>\n",
       "    </tr>\n",
       "  </tbody>\n",
       "</table>\n",
       "</div>"
      ],
      "text/plain": [
       "                                         organization       type  count\n",
       "0                    3M Innovative Properties Company  Corporate    143\n",
       "1                    AIR PRODUCTS AND CHEMICALS, INC.  Corporate    110\n",
       "2                        ARCH Development Corporation  Corporate    255\n",
       "3                              AT&T Bell Laboratories  Corporate     23\n",
       "4                                 Abbott Laboratories  Corporate     41\n",
       "5                            Abuzz Technologies, Inc.  Corporate     27\n",
       "6                    Advanced Ceramics Research, Inc.  Corporate     21\n",
       "7                        Advanced Fuel Research, Inc.  Corporate     25\n",
       "8                         Advanced Liquid Logic, Inc.  Corporate     75\n",
       "9                        Advanced Micro Devices, Inc.  Corporate     37\n",
       "10         Advanced Research and Technology Institute   Academic     26\n",
       "11                Advanced Technology Materials, Inc.  Corporate     46\n",
       "12                            Aerodyne Research, Inc.  Corporate     22\n",
       "13                                   Affymetrix, Inc.  Corporate     75\n",
       "14                         Agilent Technologies, Inc.  Corporate     30\n",
       "15  Albert Einstein College of Medicine of Yeshiva...  Ambiguous    175\n",
       "16          Albert Einstein College of Medicine, Inc.  Ambiguous     28\n",
       "17                                     Alcatel Lucent  Corporate     49\n",
       "18                            Alcatel-Lucent USA Inc.  Corporate     35\n",
       "19                                         Alcoa Inc.  Corporate     24"
      ]
     },
     "execution_count": 90,
     "metadata": {},
     "output_type": "execute_result"
    }
   ],
   "source": [
    "to_check.reset_index(inplace=True)\n",
    "to_check.columns = ['organization', 'type', 'count']\n",
    "to_check.head(20)\n",
    "#to_check.to_csv('F:/Govt_Int/ManualCheck/top_orgs_to_check.csv', index = False)"
   ]
  },
  {
   "cell_type": "code",
   "execution_count": null,
   "metadata": {
    "collapsed": true
   },
   "outputs": [],
   "source": []
  },
  {
   "cell_type": "markdown",
   "metadata": {
    "collapsed": false
   },
   "source": [
    "### Use the regex to classify all the assignees"
   ]
  },
  {
   "cell_type": "code",
   "execution_count": 14,
   "metadata": {
    "collapsed": false,
    "scrolled": true
   },
   "outputs": [
    {
     "data": {
      "text/html": [
       "<div>\n",
       "<table border=\"1\" class=\"dataframe\">\n",
       "  <thead>\n",
       "    <tr style=\"text-align: right;\">\n",
       "      <th></th>\n",
       "      <th>id</th>\n",
       "      <th>type</th>\n",
       "      <th>name_first</th>\n",
       "      <th>name_last</th>\n",
       "      <th>organization</th>\n",
       "      <th>thes_types</th>\n",
       "    </tr>\n",
       "  </thead>\n",
       "  <tbody>\n",
       "    <tr>\n",
       "      <th>0</th>\n",
       "      <td>00003f5c5d92354570b9bae01b3e7272</td>\n",
       "      <td>0</td>\n",
       "      <td></td>\n",
       "      <td></td>\n",
       "      <td>E-Z Anchor Bolt Template, Inc.</td>\n",
       "      <td>Corporate</td>\n",
       "    </tr>\n",
       "    <tr>\n",
       "      <th>1</th>\n",
       "      <td>000058159cdbf11415ffad8001c192f6</td>\n",
       "      <td>0</td>\n",
       "      <td></td>\n",
       "      <td></td>\n",
       "      <td>Roll and Go AG</td>\n",
       "      <td>Corporate</td>\n",
       "    </tr>\n",
       "    <tr>\n",
       "      <th>2</th>\n",
       "      <td>00005a7b722c0d70af7c0f6706cdc067</td>\n",
       "      <td>0</td>\n",
       "      <td></td>\n",
       "      <td></td>\n",
       "      <td>PERSCITUS INNOVATIONS LLC</td>\n",
       "      <td>Corporate</td>\n",
       "    </tr>\n",
       "    <tr>\n",
       "      <th>3</th>\n",
       "      <td>00007b72e8f46f63797266c63ad3a34f</td>\n",
       "      <td>0</td>\n",
       "      <td></td>\n",
       "      <td></td>\n",
       "      <td>Fleetwood Aluminum Products, Inc.</td>\n",
       "      <td>Corporate</td>\n",
       "    </tr>\n",
       "    <tr>\n",
       "      <th>4</th>\n",
       "      <td>000099cec50350524fc0704f0cdd8db6</td>\n",
       "      <td>0</td>\n",
       "      <td></td>\n",
       "      <td></td>\n",
       "      <td>B.V. Nederlandse Industrie Van Eiprodukten</td>\n",
       "      <td>Corporate</td>\n",
       "    </tr>\n",
       "  </tbody>\n",
       "</table>\n",
       "</div>"
      ],
      "text/plain": [
       "                                 id  type name_first name_last  \\\n",
       "0  00003f5c5d92354570b9bae01b3e7272     0                        \n",
       "1  000058159cdbf11415ffad8001c192f6     0                        \n",
       "2  00005a7b722c0d70af7c0f6706cdc067     0                        \n",
       "3  00007b72e8f46f63797266c63ad3a34f     0                        \n",
       "4  000099cec50350524fc0704f0cdd8db6     0                        \n",
       "\n",
       "                                 organization thes_types  \n",
       "0             E-Z Anchor Bolt Template, Inc.   Corporate  \n",
       "1                              Roll and Go AG  Corporate  \n",
       "2                   PERSCITUS INNOVATIONS LLC  Corporate  \n",
       "3           Fleetwood Aluminum Products, Inc.  Corporate  \n",
       "4  B.V. Nederlandse Industrie Van Eiprodukten  Corporate  "
      ]
     },
     "execution_count": 14,
     "metadata": {},
     "output_type": "execute_result"
    }
   ],
   "source": [
    "all_assignees = pd.read_csv(\"F:/Govt_Int/Final_CSVS/all_assignees.csv\").fillna(\"\")\n",
    "all_assignees['thes_types'] = all_assignees['organization'].apply(lambda x : org_types(x))\n",
    "all_assignees.head()"
   ]
  },
  {
   "cell_type": "code",
   "execution_count": 15,
   "metadata": {
    "collapsed": false
   },
   "outputs": [
    {
     "data": {
      "text/html": [
       "<div>\n",
       "<table border=\"1\" class=\"dataframe\">\n",
       "  <thead>\n",
       "    <tr style=\"text-align: right;\">\n",
       "      <th></th>\n",
       "      <th>organization</th>\n",
       "      <th>type</th>\n",
       "      <th>count</th>\n",
       "      <th>updated_type</th>\n",
       "      <th>check_flag</th>\n",
       "      <th>NonProfit</th>\n",
       "    </tr>\n",
       "  </thead>\n",
       "  <tbody>\n",
       "    <tr>\n",
       "      <th>0</th>\n",
       "      <td>3M Innovative Properties Company</td>\n",
       "      <td>Corporate</td>\n",
       "      <td>139</td>\n",
       "      <td>NaN</td>\n",
       "      <td>NaN</td>\n",
       "      <td>NaN</td>\n",
       "    </tr>\n",
       "    <tr>\n",
       "      <th>1</th>\n",
       "      <td>AIR PRODUCTS AND CHEMICALS, INC.</td>\n",
       "      <td>Corporate</td>\n",
       "      <td>102</td>\n",
       "      <td>NaN</td>\n",
       "      <td>NaN</td>\n",
       "      <td>NaN</td>\n",
       "    </tr>\n",
       "    <tr>\n",
       "      <th>2</th>\n",
       "      <td>ARCH Development Corporation</td>\n",
       "      <td>Corporate</td>\n",
       "      <td>261</td>\n",
       "      <td>NaN</td>\n",
       "      <td>NaN</td>\n",
       "      <td>NaN</td>\n",
       "    </tr>\n",
       "    <tr>\n",
       "      <th>3</th>\n",
       "      <td>AT&amp;T Bell Laboratories</td>\n",
       "      <td>Corporate</td>\n",
       "      <td>23</td>\n",
       "      <td>NaN</td>\n",
       "      <td>NaN</td>\n",
       "      <td>NaN</td>\n",
       "    </tr>\n",
       "    <tr>\n",
       "      <th>4</th>\n",
       "      <td>ATC Technologies, Inc.</td>\n",
       "      <td>Corporate</td>\n",
       "      <td>26</td>\n",
       "      <td>NaN</td>\n",
       "      <td>NaN</td>\n",
       "      <td>NaN</td>\n",
       "    </tr>\n",
       "  </tbody>\n",
       "</table>\n",
       "</div>"
      ],
      "text/plain": [
       "                       organization       type  count updated_type  \\\n",
       "0  3M Innovative Properties Company  Corporate    139          NaN   \n",
       "1  AIR PRODUCTS AND CHEMICALS, INC.  Corporate    102          NaN   \n",
       "2      ARCH Development Corporation  Corporate    261          NaN   \n",
       "3            AT&T Bell Laboratories  Corporate     23          NaN   \n",
       "4            ATC Technologies, Inc.  Corporate     26          NaN   \n",
       "\n",
       "   check_flag  NonProfit  \n",
       "0         NaN        NaN  \n",
       "1         NaN        NaN  \n",
       "2         NaN        NaN  \n",
       "3         NaN        NaN  \n",
       "4         NaN        NaN  "
      ]
     },
     "execution_count": 15,
     "metadata": {},
     "output_type": "execute_result"
    }
   ],
   "source": [
    "top_orgs = pd.read_csv(\"F:/Govt_Int/Final_CSVS/top_orgs_to_check_checked.csv\")\n",
    "top_orgs.head()"
   ]
  },
  {
   "cell_type": "code",
   "execution_count": 16,
   "metadata": {
    "collapsed": false
   },
   "outputs": [],
   "source": [
    "dfmerged = pd.merge(top_orgs, all_assignees, on = \"organization\", how = \"outer\")"
   ]
  },
  {
   "cell_type": "code",
   "execution_count": 17,
   "metadata": {
    "collapsed": true
   },
   "outputs": [],
   "source": [
    "dfmerged['final_type'] = dfmerged.apply(lambda row : row['updated_type'] if not pd.isnull(row['updated_type']) else row['thes_types'],axis=1) "
   ]
  },
  {
   "cell_type": "code",
   "execution_count": 18,
   "metadata": {
    "collapsed": false
   },
   "outputs": [
    {
     "data": {
      "text/html": [
       "<div>\n",
       "<table border=\"1\" class=\"dataframe\">\n",
       "  <thead>\n",
       "    <tr style=\"text-align: right;\">\n",
       "      <th></th>\n",
       "      <th>id</th>\n",
       "      <th>type_y</th>\n",
       "      <th>name_first</th>\n",
       "      <th>name_last</th>\n",
       "      <th>organization</th>\n",
       "      <th>final_type</th>\n",
       "    </tr>\n",
       "  </thead>\n",
       "  <tbody>\n",
       "    <tr>\n",
       "      <th>0</th>\n",
       "      <td>358d3cb746241ec1105de0542e47fbcd</td>\n",
       "      <td>0.0</td>\n",
       "      <td></td>\n",
       "      <td></td>\n",
       "      <td>3M Innovative Properties Company</td>\n",
       "      <td>Corporate</td>\n",
       "    </tr>\n",
       "    <tr>\n",
       "      <th>1</th>\n",
       "      <td>aca8358f38f9eb71191a353a59a96ea9</td>\n",
       "      <td>0.0</td>\n",
       "      <td></td>\n",
       "      <td></td>\n",
       "      <td>AIR PRODUCTS AND CHEMICALS, INC.</td>\n",
       "      <td>Corporate</td>\n",
       "    </tr>\n",
       "    <tr>\n",
       "      <th>2</th>\n",
       "      <td>610f73966a02992c651f46e9d0490d62</td>\n",
       "      <td>0.0</td>\n",
       "      <td></td>\n",
       "      <td></td>\n",
       "      <td>ARCH Development Corporation</td>\n",
       "      <td>Corporate</td>\n",
       "    </tr>\n",
       "    <tr>\n",
       "      <th>3</th>\n",
       "      <td>3a95e99e9d014e0f405159dfb75ff537</td>\n",
       "      <td>0.0</td>\n",
       "      <td></td>\n",
       "      <td></td>\n",
       "      <td>AT&amp;T Bell Laboratories</td>\n",
       "      <td>Corporate</td>\n",
       "    </tr>\n",
       "    <tr>\n",
       "      <th>4</th>\n",
       "      <td>25c424953c244978383e1fe39d8c1a8c</td>\n",
       "      <td>0.0</td>\n",
       "      <td></td>\n",
       "      <td></td>\n",
       "      <td>ATC Technologies, Inc.</td>\n",
       "      <td>Corporate</td>\n",
       "    </tr>\n",
       "  </tbody>\n",
       "</table>\n",
       "</div>"
      ],
      "text/plain": [
       "                                 id  type_y name_first name_last  \\\n",
       "0  358d3cb746241ec1105de0542e47fbcd     0.0                        \n",
       "1  aca8358f38f9eb71191a353a59a96ea9     0.0                        \n",
       "2  610f73966a02992c651f46e9d0490d62     0.0                        \n",
       "3  3a95e99e9d014e0f405159dfb75ff537     0.0                        \n",
       "4  25c424953c244978383e1fe39d8c1a8c     0.0                        \n",
       "\n",
       "                       organization final_type  \n",
       "0  3M Innovative Properties Company  Corporate  \n",
       "1  AIR PRODUCTS AND CHEMICALS, INC.  Corporate  \n",
       "2      ARCH Development Corporation  Corporate  \n",
       "3            AT&T Bell Laboratories  Corporate  \n",
       "4            ATC Technologies, Inc.  Corporate  "
      ]
     },
     "execution_count": 18,
     "metadata": {},
     "output_type": "execute_result"
    }
   ],
   "source": [
    "dfmerged = dfmerged[['id', 'type_y', 'name_first', 'name_last', 'organization', 'final_type']]\n",
    "dfmerged.rename({'type_y': 'type', 'final_type': 'thes_types'}, inplace = True)\n",
    "dfmerged.head()"
   ]
  },
  {
   "cell_type": "code",
   "execution_count": 19,
   "metadata": {
    "collapsed": false
   },
   "outputs": [
    {
     "data": {
      "text/plain": [
       "Corporate     322672\n",
       "Person         40483\n",
       "Ambiguous       6508\n",
       "Academic        6320\n",
       "Government       688\n",
       "Hospital         242\n",
       "Name: thes_types, dtype: int64"
      ]
     },
     "execution_count": 19,
     "metadata": {},
     "output_type": "execute_result"
    }
   ],
   "source": [
    "all_assignees['thes_types'].value_counts()"
   ]
  },
  {
   "cell_type": "code",
   "execution_count": 20,
   "metadata": {
    "collapsed": true
   },
   "outputs": [],
   "source": [
    "mydb = MySQLdb.connect(config.host, config.username, config.password, 'patent_20170808')"
   ]
  },
  {
   "cell_type": "code",
   "execution_count": 21,
   "metadata": {
    "collapsed": false
   },
   "outputs": [
    {
     "name": "stderr",
     "output_type": "stream",
     "text": [
      "C:\\Program Files\\Anaconda2\\lib\\site-packages\\pandas\\core\\generic.py:1165: FutureWarning: The 'mysql' flavor with DBAPI connection is deprecated and will be removed in future versions. MySQL will be further supported with SQLAlchemy connectables.\n",
      "  chunksize=chunksize, dtype=dtype)\n",
      "C:\\Program Files\\Anaconda2\\lib\\site-packages\\pandas\\io\\sql.py:1445: Warning: Data truncated for column 'organization' at row 67\n",
      "  conn.executemany(self.insert_statement(), data_list)\n",
      "C:\\Program Files\\Anaconda2\\lib\\site-packages\\pandas\\io\\sql.py:1445: Warning: Data truncated for column 'organization' at row 74\n",
      "  conn.executemany(self.insert_statement(), data_list)\n",
      "C:\\Program Files\\Anaconda2\\lib\\site-packages\\pandas\\io\\sql.py:1445: Warning: Data truncated for column 'organization' at row 171\n",
      "  conn.executemany(self.insert_statement(), data_list)\n",
      "C:\\Program Files\\Anaconda2\\lib\\site-packages\\pandas\\io\\sql.py:1445: Warning: Data truncated for column 'organization' at row 179\n",
      "  conn.executemany(self.insert_statement(), data_list)\n",
      "C:\\Program Files\\Anaconda2\\lib\\site-packages\\pandas\\io\\sql.py:1445: Warning: Data truncated for column 'organization' at row 273\n",
      "  conn.executemany(self.insert_statement(), data_list)\n",
      "C:\\Program Files\\Anaconda2\\lib\\site-packages\\pandas\\io\\sql.py:1445: Warning: Data truncated for column 'organization' at row 326\n",
      "  conn.executemany(self.insert_statement(), data_list)\n",
      "C:\\Program Files\\Anaconda2\\lib\\site-packages\\pandas\\io\\sql.py:1445: Warning: Data truncated for column 'organization' at row 335\n",
      "  conn.executemany(self.insert_statement(), data_list)\n",
      "C:\\Program Files\\Anaconda2\\lib\\site-packages\\pandas\\io\\sql.py:1445: Warning: Data truncated for column 'organization' at row 367\n",
      "  conn.executemany(self.insert_statement(), data_list)\n",
      "C:\\Program Files\\Anaconda2\\lib\\site-packages\\pandas\\io\\sql.py:1445: Warning: Data truncated for column 'organization' at row 398\n",
      "  conn.executemany(self.insert_statement(), data_list)\n",
      "C:\\Program Files\\Anaconda2\\lib\\site-packages\\pandas\\io\\sql.py:1445: Warning: Data truncated for column 'organization' at row 473\n",
      "  conn.executemany(self.insert_statement(), data_list)\n",
      "C:\\Program Files\\Anaconda2\\lib\\site-packages\\pandas\\io\\sql.py:1445: Warning: Data truncated for column 'organization' at row 644\n",
      "  conn.executemany(self.insert_statement(), data_list)\n",
      "C:\\Program Files\\Anaconda2\\lib\\site-packages\\pandas\\io\\sql.py:1445: Warning: Data truncated for column 'organization' at row 692\n",
      "  conn.executemany(self.insert_statement(), data_list)\n",
      "C:\\Program Files\\Anaconda2\\lib\\site-packages\\pandas\\io\\sql.py:1445: Warning: Data truncated for column 'organization' at row 727\n",
      "  conn.executemany(self.insert_statement(), data_list)\n",
      "C:\\Program Files\\Anaconda2\\lib\\site-packages\\pandas\\io\\sql.py:1445: Warning: Data truncated for column 'organization' at row 750\n",
      "  conn.executemany(self.insert_statement(), data_list)\n",
      "C:\\Program Files\\Anaconda2\\lib\\site-packages\\pandas\\io\\sql.py:1445: Warning: Data truncated for column 'organization' at row 781\n",
      "  conn.executemany(self.insert_statement(), data_list)\n",
      "C:\\Program Files\\Anaconda2\\lib\\site-packages\\pandas\\io\\sql.py:1445: Warning: Data truncated for column 'organization' at row 803\n",
      "  conn.executemany(self.insert_statement(), data_list)\n",
      "C:\\Program Files\\Anaconda2\\lib\\site-packages\\pandas\\io\\sql.py:1445: Warning: Data truncated for column 'organization' at row 917\n",
      "  conn.executemany(self.insert_statement(), data_list)\n",
      "C:\\Program Files\\Anaconda2\\lib\\site-packages\\pandas\\io\\sql.py:1445: Warning: Data truncated for column 'organization' at row 929\n",
      "  conn.executemany(self.insert_statement(), data_list)\n",
      "C:\\Program Files\\Anaconda2\\lib\\site-packages\\pandas\\io\\sql.py:1445: Warning: Data truncated for column 'organization' at row 1043\n",
      "  conn.executemany(self.insert_statement(), data_list)\n",
      "C:\\Program Files\\Anaconda2\\lib\\site-packages\\pandas\\io\\sql.py:1445: Warning: Data truncated for column 'organization' at row 1103\n",
      "  conn.executemany(self.insert_statement(), data_list)\n",
      "C:\\Program Files\\Anaconda2\\lib\\site-packages\\pandas\\io\\sql.py:1445: Warning: Data truncated for column 'organization' at row 1225\n",
      "  conn.executemany(self.insert_statement(), data_list)\n",
      "C:\\Program Files\\Anaconda2\\lib\\site-packages\\pandas\\io\\sql.py:1445: Warning: Data truncated for column 'name_first' at row 1292\n",
      "  conn.executemany(self.insert_statement(), data_list)\n",
      "C:\\Program Files\\Anaconda2\\lib\\site-packages\\pandas\\io\\sql.py:1445: Warning: Data truncated for column 'organization' at row 1361\n",
      "  conn.executemany(self.insert_statement(), data_list)\n",
      "C:\\Program Files\\Anaconda2\\lib\\site-packages\\pandas\\io\\sql.py:1445: Warning: Data truncated for column 'organization' at row 1393\n",
      "  conn.executemany(self.insert_statement(), data_list)\n",
      "C:\\Program Files\\Anaconda2\\lib\\site-packages\\pandas\\io\\sql.py:1445: Warning: Data truncated for column 'organization' at row 1413\n",
      "  conn.executemany(self.insert_statement(), data_list)\n",
      "C:\\Program Files\\Anaconda2\\lib\\site-packages\\pandas\\io\\sql.py:1445: Warning: Data truncated for column 'organization' at row 1422\n",
      "  conn.executemany(self.insert_statement(), data_list)\n",
      "C:\\Program Files\\Anaconda2\\lib\\site-packages\\pandas\\io\\sql.py:1445: Warning: Data truncated for column 'organization' at row 1650\n",
      "  conn.executemany(self.insert_statement(), data_list)\n",
      "C:\\Program Files\\Anaconda2\\lib\\site-packages\\pandas\\io\\sql.py:1445: Warning: Data truncated for column 'organization' at row 1651\n",
      "  conn.executemany(self.insert_statement(), data_list)\n",
      "C:\\Program Files\\Anaconda2\\lib\\site-packages\\pandas\\io\\sql.py:1445: Warning: Data truncated for column 'organization' at row 1737\n",
      "  conn.executemany(self.insert_statement(), data_list)\n",
      "C:\\Program Files\\Anaconda2\\lib\\site-packages\\pandas\\io\\sql.py:1445: Warning: Data truncated for column 'organization' at row 1758\n",
      "  conn.executemany(self.insert_statement(), data_list)\n",
      "C:\\Program Files\\Anaconda2\\lib\\site-packages\\pandas\\io\\sql.py:1445: Warning: Data truncated for column 'name_first' at row 1847\n",
      "  conn.executemany(self.insert_statement(), data_list)\n",
      "C:\\Program Files\\Anaconda2\\lib\\site-packages\\pandas\\io\\sql.py:1445: Warning: Data truncated for column 'organization' at row 1904\n",
      "  conn.executemany(self.insert_statement(), data_list)\n",
      "C:\\Program Files\\Anaconda2\\lib\\site-packages\\pandas\\io\\sql.py:1445: Warning: Data truncated for column 'organization' at row 1944\n",
      "  conn.executemany(self.insert_statement(), data_list)\n",
      "C:\\Program Files\\Anaconda2\\lib\\site-packages\\pandas\\io\\sql.py:1445: Warning: Data truncated for column 'organization' at row 1957\n",
      "  conn.executemany(self.insert_statement(), data_list)\n",
      "C:\\Program Files\\Anaconda2\\lib\\site-packages\\pandas\\io\\sql.py:1445: Warning: Data truncated for column 'organization' at row 2005\n",
      "  conn.executemany(self.insert_statement(), data_list)\n",
      "C:\\Program Files\\Anaconda2\\lib\\site-packages\\pandas\\io\\sql.py:1445: Warning: Data truncated for column 'name_first' at row 2117\n",
      "  conn.executemany(self.insert_statement(), data_list)\n",
      "C:\\Program Files\\Anaconda2\\lib\\site-packages\\pandas\\io\\sql.py:1445: Warning: Data truncated for column 'name_first' at row 2184\n",
      "  conn.executemany(self.insert_statement(), data_list)\n",
      "C:\\Program Files\\Anaconda2\\lib\\site-packages\\pandas\\io\\sql.py:1445: Warning: Data truncated for column 'organization' at row 2352\n",
      "  conn.executemany(self.insert_statement(), data_list)\n",
      "C:\\Program Files\\Anaconda2\\lib\\site-packages\\pandas\\io\\sql.py:1445: Warning: Data truncated for column 'organization' at row 2378\n",
      "  conn.executemany(self.insert_statement(), data_list)\n",
      "C:\\Program Files\\Anaconda2\\lib\\site-packages\\pandas\\io\\sql.py:1445: Warning: Data truncated for column 'organization' at row 2411\n",
      "  conn.executemany(self.insert_statement(), data_list)\n",
      "C:\\Program Files\\Anaconda2\\lib\\site-packages\\pandas\\io\\sql.py:1445: Warning: Data truncated for column 'organization' at row 2489\n",
      "  conn.executemany(self.insert_statement(), data_list)\n",
      "C:\\Program Files\\Anaconda2\\lib\\site-packages\\pandas\\io\\sql.py:1445: Warning: Data truncated for column 'organization' at row 2525\n",
      "  conn.executemany(self.insert_statement(), data_list)\n",
      "C:\\Program Files\\Anaconda2\\lib\\site-packages\\pandas\\io\\sql.py:1445: Warning: Data truncated for column 'organization' at row 2549\n",
      "  conn.executemany(self.insert_statement(), data_list)\n",
      "C:\\Program Files\\Anaconda2\\lib\\site-packages\\pandas\\io\\sql.py:1445: Warning: Data truncated for column 'organization' at row 2625\n",
      "  conn.executemany(self.insert_statement(), data_list)\n",
      "C:\\Program Files\\Anaconda2\\lib\\site-packages\\pandas\\io\\sql.py:1445: Warning: Data truncated for column 'organization' at row 2683\n",
      "  conn.executemany(self.insert_statement(), data_list)\n",
      "C:\\Program Files\\Anaconda2\\lib\\site-packages\\pandas\\io\\sql.py:1445: Warning: Data truncated for column 'organization' at row 2738\n",
      "  conn.executemany(self.insert_statement(), data_list)\n",
      "C:\\Program Files\\Anaconda2\\lib\\site-packages\\pandas\\io\\sql.py:1445: Warning: Data truncated for column 'name_first' at row 2748\n",
      "  conn.executemany(self.insert_statement(), data_list)\n",
      "C:\\Program Files\\Anaconda2\\lib\\site-packages\\pandas\\io\\sql.py:1445: Warning: Data truncated for column 'name_first' at row 2842\n",
      "  conn.executemany(self.insert_statement(), data_list)\n",
      "C:\\Program Files\\Anaconda2\\lib\\site-packages\\pandas\\io\\sql.py:1445: Warning: Data truncated for column 'organization' at row 2874\n",
      "  conn.executemany(self.insert_statement(), data_list)\n",
      "C:\\Program Files\\Anaconda2\\lib\\site-packages\\pandas\\io\\sql.py:1445: Warning: Data truncated for column 'name_first' at row 2879\n",
      "  conn.executemany(self.insert_statement(), data_list)\n",
      "C:\\Program Files\\Anaconda2\\lib\\site-packages\\pandas\\io\\sql.py:1445: Warning: Data truncated for column 'name_first' at row 2890\n",
      "  conn.executemany(self.insert_statement(), data_list)\n",
      "C:\\Program Files\\Anaconda2\\lib\\site-packages\\pandas\\io\\sql.py:1445: Warning: Data truncated for column 'organization' at row 2964\n",
      "  conn.executemany(self.insert_statement(), data_list)\n",
      "C:\\Program Files\\Anaconda2\\lib\\site-packages\\pandas\\io\\sql.py:1445: Warning: Data truncated for column 'organization' at row 2981\n",
      "  conn.executemany(self.insert_statement(), data_list)\n",
      "C:\\Program Files\\Anaconda2\\lib\\site-packages\\pandas\\io\\sql.py:1445: Warning: Data truncated for column 'organization' at row 3211\n",
      "  conn.executemany(self.insert_statement(), data_list)\n",
      "C:\\Program Files\\Anaconda2\\lib\\site-packages\\pandas\\io\\sql.py:1445: Warning: Data truncated for column 'organization' at row 3220\n",
      "  conn.executemany(self.insert_statement(), data_list)\n",
      "C:\\Program Files\\Anaconda2\\lib\\site-packages\\pandas\\io\\sql.py:1445: Warning: Data truncated for column 'name_first' at row 3223\n",
      "  conn.executemany(self.insert_statement(), data_list)\n",
      "C:\\Program Files\\Anaconda2\\lib\\site-packages\\pandas\\io\\sql.py:1445: Warning: Data truncated for column 'organization' at row 3245\n",
      "  conn.executemany(self.insert_statement(), data_list)\n",
      "C:\\Program Files\\Anaconda2\\lib\\site-packages\\pandas\\io\\sql.py:1445: Warning: Data truncated for column 'organization' at row 3315\n",
      "  conn.executemany(self.insert_statement(), data_list)\n",
      "C:\\Program Files\\Anaconda2\\lib\\site-packages\\pandas\\io\\sql.py:1445: Warning: Data truncated for column 'organization' at row 3457\n",
      "  conn.executemany(self.insert_statement(), data_list)\n",
      "C:\\Program Files\\Anaconda2\\lib\\site-packages\\pandas\\io\\sql.py:1445: Warning: Data truncated for column 'organization' at row 3465\n",
      "  conn.executemany(self.insert_statement(), data_list)\n",
      "C:\\Program Files\\Anaconda2\\lib\\site-packages\\pandas\\io\\sql.py:1445: Warning: Data truncated for column 'organization' at row 3502\n",
      "  conn.executemany(self.insert_statement(), data_list)\n",
      "C:\\Program Files\\Anaconda2\\lib\\site-packages\\pandas\\io\\sql.py:1445: Warning: Data truncated for column 'organization' at row 3538\n",
      "  conn.executemany(self.insert_statement(), data_list)\n",
      "C:\\Program Files\\Anaconda2\\lib\\site-packages\\pandas\\io\\sql.py:1445: Warning: Data truncated for column 'organization' at row 3551\n",
      "  conn.executemany(self.insert_statement(), data_list)\n",
      "C:\\Program Files\\Anaconda2\\lib\\site-packages\\pandas\\io\\sql.py:1445: Warning: Data truncated for column 'organization' at row 3667\n",
      "  conn.executemany(self.insert_statement(), data_list)\n"
     ]
    }
   ],
   "source": [
    "#only run this once to upload the data\n",
    "all_assignees.to_sql(con=mydb, name='assignees_by_type_v2', if_exists='replace', flavor='mysql')"
   ]
  },
  {
   "cell_type": "code",
   "execution_count": null,
   "metadata": {
    "collapsed": true
   },
   "outputs": [],
   "source": []
  }
 ],
 "metadata": {
  "anaconda-cloud": {},
  "kernelspec": {
   "display_name": "Python [conda root]",
   "language": "python",
   "name": "conda-root-py"
  },
  "language_info": {
   "codemirror_mode": {
    "name": "ipython",
    "version": 2
   },
   "file_extension": ".py",
   "mimetype": "text/x-python",
   "name": "python",
   "nbconvert_exporter": "python",
   "pygments_lexer": "ipython2",
   "version": "2.7.12"
  }
 },
 "nbformat": 4,
 "nbformat_minor": 1
}
